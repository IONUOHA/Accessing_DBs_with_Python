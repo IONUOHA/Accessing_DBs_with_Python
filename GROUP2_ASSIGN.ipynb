{
  "nbformat": 4,
  "nbformat_minor": 0,
  "metadata": {
    "colab": {
      "provenance": [],
      "include_colab_link": true
    },
    "kernelspec": {
      "name": "python3",
      "display_name": "Python 3"
    },
    "language_info": {
      "name": "python"
    }
  },
  "cells": [
    {
      "cell_type": "markdown",
      "metadata": {
        "id": "view-in-github",
        "colab_type": "text"
      },
      "source": [
        "<a href=\"https://colab.research.google.com/github/IONUOHA/Accessing_DBs_with_Python/blob/main/GROUP2_ASSIGN.ipynb\" target=\"_parent\"><img src=\"https://colab.research.google.com/assets/colab-badge.svg\" alt=\"Open In Colab\"/></a>"
      ]
    },
    {
      "cell_type": "markdown",
      "source": [
        "**GROUP TWO MEMBERS**\n",
        "\n",
        "1. oluwatoyin **IBITOYE**\n",
        "2. Onuoha Ikechukwu\n",
        "3.\n",
        "4.\n"
      ],
      "metadata": {
        "id": "yVyM5u4E-xIP"
      }
    },
    {
      "cell_type": "markdown",
      "source": [
        "**Project Description**\n",
        "\n",
        "GoalBet is a sport data analytics company that analyzes historic sport\n",
        "data. We build predictive models to predict sport scores for insight\n",
        "analysis & Betting purpose. We retrieve data from a wide variety of\n",
        "sources in a variety of formats.\n",
        "Typically, we retrieve information relating to sports (football, tennis,\n",
        "horse racing) results from both public web sites and commercial data\n",
        "providers. The information is usually in a semi-structured format such\n",
        "as CSV, JSON or Microsoft Excel. We then transform the data and\n",
        "put it in a persistent store, such as a database. Later on, this data is\n",
        "used by our data science team."
      ],
      "metadata": {
        "id": "EbhDAleJGHhx"
      }
    },
    {
      "cell_type": "markdown",
      "source": [
        "**Project Objective**\n",
        "\n",
        "As our newly hired data engineer, you’re requested to:\n",
        "• Build an end-to-end Extract, Transform & Load (ETL) pipeline that\n",
        "pulls data from the website of one of our data providers -\n",
        "https://www.football-data.co.uk/englandm.php\n",
        "• Use your file explorer as the data lake for staging the extracted\n",
        "raw & transformed data in CSV format.\n",
        "\n",
        "• Use PostgreSQL for persisting the transformed data."
      ],
      "metadata": {
        "id": "71gsTu9LGUis"
      }
    },
    {
      "cell_type": "markdown",
      "source": [
        "**Instructions**\n",
        "- Your ETL logic should be in separate module\n",
        "- Create a utility file for any helper function e.g Database\n",
        "connection function.\n",
        "\n",
        "- Your ETL pipeline should be run from a separate main module."
      ],
      "metadata": {
        "id": "UOnllmt3GciY"
      }
    },
    {
      "cell_type": "markdown",
      "source": [
        "Required Data\n",
        "\n",
        "For this project, you are required to extract only football data in these\n",
        "Url formats:\n",
        "\n",
        "• https://www.football-data.co.uk/mmz4281/1920/E0.csv\n",
        "• https://www.football-data.co.uk/mmz4281/1920/E2.csv\n",
        "• https://www.football-data.co.uk/mmz4281/0203/E1.csv\n",
        "\n",
        "You can find a documentation describing the data here:\n",
        "https://www.football-data.co.uk/notes.txt"
      ],
      "metadata": {
        "id": "pJNIP04TGjiT"
      }
    },
    {
      "cell_type": "markdown",
      "source": [
        "**Required Data**\n",
        "\n",
        "Data structure:\n",
        "We are only interested in a subset of the information:\n",
        "Div = League Division\n",
        "Date = Match Date (dd/mm/yy)\n",
        "Time = Time of match kick off\n",
        "HomeTeam = Home Team\n",
        "AwayTeam = Away Team\n",
        "FTHG = Full Time Home Team Goals\n",
        "FTAG = Full Time Away Team Goals"
      ],
      "metadata": {
        "id": "StiHaFi8G_Wj"
      }
    },
    {
      "cell_type": "markdown",
      "source": [
        "**DATA EXTRACTION**"
      ],
      "metadata": {
        "id": "Msh_Ym7PHGGF"
      }
    },
    {
      "cell_type": "code",
      "source": [
        "# installing upgrade pandas to enablee us deal with the inconsistences in the different url\n",
        "!pip install --upgrade pandas\n"
      ],
      "metadata": {
        "colab": {
          "base_uri": "https://localhost:8080/"
        },
        "id": "nsdFiZ8R7B6z",
        "outputId": "2542f2f9-23d7-4c16-a87a-af568dc0f5c7"
      },
      "execution_count": null,
      "outputs": [
        {
          "output_type": "stream",
          "name": "stdout",
          "text": [
            "Requirement already satisfied: pandas in /usr/local/lib/python3.10/dist-packages (2.2.2)\n",
            "Collecting pandas\n",
            "  Downloading pandas-2.2.3-cp310-cp310-manylinux_2_17_x86_64.manylinux2014_x86_64.whl.metadata (89 kB)\n",
            "\u001b[2K     \u001b[90m━━━━━━━━━━━━━━━━━━━━━━━━━━━━━━━━━━━━━━━━\u001b[0m \u001b[32m89.9/89.9 kB\u001b[0m \u001b[31m5.3 MB/s\u001b[0m eta \u001b[36m0:00:00\u001b[0m\n",
            "\u001b[?25hRequirement already satisfied: numpy>=1.22.4 in /usr/local/lib/python3.10/dist-packages (from pandas) (1.26.4)\n",
            "Requirement already satisfied: python-dateutil>=2.8.2 in /usr/local/lib/python3.10/dist-packages (from pandas) (2.8.2)\n",
            "Requirement already satisfied: pytz>=2020.1 in /usr/local/lib/python3.10/dist-packages (from pandas) (2024.2)\n",
            "Requirement already satisfied: tzdata>=2022.7 in /usr/local/lib/python3.10/dist-packages (from pandas) (2024.2)\n",
            "Requirement already satisfied: six>=1.5 in /usr/local/lib/python3.10/dist-packages (from python-dateutil>=2.8.2->pandas) (1.16.0)\n",
            "Downloading pandas-2.2.3-cp310-cp310-manylinux_2_17_x86_64.manylinux2014_x86_64.whl (13.1 MB)\n",
            "\u001b[2K   \u001b[90m━━━━━━━━━━━━━━━━━━━━━━━━━━━━━━━━━━━━━━━━\u001b[0m \u001b[32m13.1/13.1 MB\u001b[0m \u001b[31m67.4 MB/s\u001b[0m eta \u001b[36m0:00:00\u001b[0m\n",
            "\u001b[?25hInstalling collected packages: pandas\n",
            "  Attempting uninstall: pandas\n",
            "    Found existing installation: pandas 2.2.2\n",
            "    Uninstalling pandas-2.2.2:\n",
            "      Successfully uninstalled pandas-2.2.2\n",
            "\u001b[31mERROR: pip's dependency resolver does not currently take into account all the packages that are installed. This behaviour is the source of the following dependency conflicts.\n",
            "cudf-cu12 24.10.1 requires pandas<2.2.3dev0,>=2.0, but you have pandas 2.2.3 which is incompatible.\n",
            "google-colab 1.0.0 requires pandas==2.2.2, but you have pandas 2.2.3 which is incompatible.\u001b[0m\u001b[31m\n",
            "\u001b[0mSuccessfully installed pandas-2.2.3\n"
          ]
        }
      ]
    },
    {
      "cell_type": "code",
      "source": [
        "#importing required library and also checking the version of pandas\n",
        "import pandas as pd\n",
        "print(pd.__version__)  # Should be 1.3.0 or higher\n"
      ],
      "metadata": {
        "colab": {
          "base_uri": "https://localhost:8080/"
        },
        "id": "hdKjZgiF7KAo",
        "outputId": "96e04757-d001-4af6-db0d-93cb1bf2b998"
      },
      "execution_count": null,
      "outputs": [
        {
          "output_type": "stream",
          "name": "stdout",
          "text": [
            "2.2.2\n"
          ]
        }
      ]
    },
    {
      "cell_type": "code",
      "source": [
        "#extracting dataset from the provided url on the website\n",
        "\n",
        "def extract_football_data(urls):\n",
        "    \"\"\"\n",
        "    Extracts data from multiple URLs into a list of pandas DataFrames.\n",
        "\n",
        "    Args:\n",
        "        urls: A list of URLs to extract data from.\n",
        "\n",
        "    Returns:\n",
        "        A list of pandas DataFrames.\n",
        "    \"\"\"\n",
        "    dataframes = []  # Create an empty list to store DataFrames\n",
        "\n",
        "    for url in urls:\n",
        "        try:\n",
        "            # Read the CSV file from the URL, skip bad lines if there are any\n",
        "            df = pd.read_csv(url, on_bad_lines='skip')\n",
        "            dataframes.append(df)  # Add the DataFrame to the list\n",
        "            print(\"Successfully extracted data from \" + url)\n",
        "        except Exception as e:\n",
        "            # Print the error if there's an issue reading the CSV file\n",
        "            print(\"Error extracting data from \" + url + \": \" + str(e))\n",
        "\n",
        "    return dataframes  # Return the list of DataFrames\n",
        "\n"
      ],
      "metadata": {
        "id": "IeCtZZpE7Pam"
      },
      "execution_count": null,
      "outputs": []
    },
    {
      "cell_type": "code",
      "source": [
        "# URLs of the required datasets\n",
        "urls = [\n",
        "    \"https://www.football-data.co.uk/mmz4281/1920/E0.csv\",\n",
        "    \"https://www.football-data.co.uk/mmz4281/1920/E2.csv\",\n",
        "    \"https://www.football-data.co.uk/mmz4281/0203/E1.csv\",\n",
        "]\n",
        "\n"
      ],
      "metadata": {
        "id": "tSHBDsNM7UDU"
      },
      "execution_count": null,
      "outputs": []
    },
    {
      "cell_type": "code",
      "source": [
        "# Extract the data from the list of URLs\n",
        "dataframes = extract_football_data(urls)\n"
      ],
      "metadata": {
        "colab": {
          "base_uri": "https://localhost:8080/"
        },
        "id": "UWimBGfI8VT5",
        "outputId": "1055633f-be95-419c-83ba-d78ac5288e5b"
      },
      "execution_count": null,
      "outputs": [
        {
          "output_type": "stream",
          "name": "stdout",
          "text": [
            "Successfully extracted data from https://www.football-data.co.uk/mmz4281/1920/E0.csv\n",
            "Successfully extracted data from https://www.football-data.co.uk/mmz4281/1920/E2.csv\n",
            "Successfully extracted data from https://www.football-data.co.uk/mmz4281/0203/E1.csv\n"
          ]
        }
      ]
    },
    {
      "cell_type": "code",
      "source": [
        "# Concatenate/merge all the DataFrames into one\n",
        "concatenated_df = pd.concat(dataframes, ignore_index=True)\n"
      ],
      "metadata": {
        "id": "o7asVf7c8cjm"
      },
      "execution_count": null,
      "outputs": []
    },
    {
      "cell_type": "code",
      "source": [
        "# Print the first few rows of the concatenated DataFrame\n",
        "print(concatenated_df.head())\n",
        "\n",
        "# Print the shape (number of rows and columns)\n",
        "print(\"Shape of concatenated DataFrame:\", concatenated_df.shape)\n",
        "\n",
        "# Print the column names of the concatenated DataFrame\n",
        "print(\"Columns in concatenated DataFrame:\", concatenated_df.columns.tolist())\n"
      ],
      "metadata": {
        "colab": {
          "base_uri": "https://localhost:8080/"
        },
        "id": "IvxHPLYo8idp",
        "outputId": "301de81d-3dbe-4096-ef2c-f8c57753e8c6"
      },
      "execution_count": null,
      "outputs": [
        {
          "output_type": "stream",
          "name": "stdout",
          "text": [
            "  Div        Date   Time        HomeTeam          AwayTeam  FTHG  FTAG FTR  \\\n",
            "0  E0  09/08/2019  20:00       Liverpool           Norwich     4     1   H   \n",
            "1  E0  10/08/2019  12:30        West Ham          Man City     0     5   A   \n",
            "2  E0  10/08/2019  15:00     Bournemouth  Sheffield United     1     1   D   \n",
            "3  E0  10/08/2019  15:00         Burnley       Southampton     3     0   H   \n",
            "4  E0  10/08/2019  15:00  Crystal Palace           Everton     0     0   D   \n",
            "\n",
            "   HTHG  HTAG  ... LBD LBA  SOH  SOD  SOA  SBH  SBD  SBA  GB>2.5  GB<2.5  \n",
            "0     4     0  ... NaN NaN  NaN  NaN  NaN  NaN  NaN  NaN     NaN     NaN  \n",
            "1     0     1  ... NaN NaN  NaN  NaN  NaN  NaN  NaN  NaN     NaN     NaN  \n",
            "2     0     0  ... NaN NaN  NaN  NaN  NaN  NaN  NaN  NaN     NaN     NaN  \n",
            "3     0     0  ... NaN NaN  NaN  NaN  NaN  NaN  NaN  NaN     NaN     NaN  \n",
            "4     0     0  ... NaN NaN  NaN  NaN  NaN  NaN  NaN  NaN     NaN     NaN  \n",
            "\n",
            "[5 rows x 120 columns]\n",
            "Shape of concatenated DataFrame: (1300, 120)\n",
            "Columns in concatenated DataFrame: ['Div', 'Date', 'Time', 'HomeTeam', 'AwayTeam', 'FTHG', 'FTAG', 'FTR', 'HTHG', 'HTAG', 'HTR', 'Referee', 'HS', 'AS', 'HST', 'AST', 'HF', 'AF', 'HC', 'AC', 'HY', 'AY', 'HR', 'AR', 'B365H', 'B365D', 'B365A', 'BWH', 'BWD', 'BWA', 'IWH', 'IWD', 'IWA', 'PSH', 'PSD', 'PSA', 'WHH', 'WHD', 'WHA', 'VCH', 'VCD', 'VCA', 'MaxH', 'MaxD', 'MaxA', 'AvgH', 'AvgD', 'AvgA', 'B365>2.5', 'B365<2.5', 'P>2.5', 'P<2.5', 'Max>2.5', 'Max<2.5', 'Avg>2.5', 'Avg<2.5', 'AHh', 'B365AHH', 'B365AHA', 'PAHH', 'PAHA', 'MaxAHH', 'MaxAHA', 'AvgAHH', 'AvgAHA', 'B365CH', 'B365CD', 'B365CA', 'BWCH', 'BWCD', 'BWCA', 'IWCH', 'IWCD', 'IWCA', 'PSCH', 'PSCD', 'PSCA', 'WHCH', 'WHCD', 'WHCA', 'VCCH', 'VCCD', 'VCCA', 'MaxCH', 'MaxCD', 'MaxCA', 'AvgCH', 'AvgCD', 'AvgCA', 'B365C>2.5', 'B365C<2.5', 'PC>2.5', 'PC<2.5', 'MaxC>2.5', 'MaxC<2.5', 'AvgC>2.5', 'AvgC<2.5', 'AHCh', 'B365CAHH', 'B365CAHA', 'PCAHH', 'PCAHA', 'MaxCAHH', 'MaxCAHA', 'AvgCAHH', 'AvgCAHA', 'GBH', 'GBD', 'GBA', 'LBH', 'LBD', 'LBA', 'SOH', 'SOD', 'SOA', 'SBH', 'SBD', 'SBA', 'GB>2.5', 'GB<2.5']\n"
          ]
        }
      ]
    },
    {
      "cell_type": "code",
      "source": [
        "# Save the concatenated DataFrame to a CSV file\n",
        "concatenated_df.to_csv('football_data_combined.csv', index=False)\n"
      ],
      "metadata": {
        "colab": {
          "base_uri": "https://localhost:8080/"
        },
        "id": "eM33G2Cd8u3l",
        "outputId": "f201efaf-e1da-4675-c4c6-4ebf15e13c30"
      },
      "execution_count": null,
      "outputs": [
        {
          "output_type": "stream",
          "name": "stdout",
          "text": [
            "concatenated_df\n"
          ]
        }
      ]
    },
    {
      "cell_type": "code",
      "source": [
        "# downloading the final file into a csv file for\n",
        "from google.colab import files\n",
        "\n",
        "files.download('football_data_combined.csv')\n"
      ],
      "metadata": {
        "colab": {
          "base_uri": "https://localhost:8080/",
          "height": 17
        },
        "id": "dq9OL8bX87w-",
        "outputId": "ff9564c6-d4b9-4820-fe08-44991d97d927"
      },
      "execution_count": null,
      "outputs": [
        {
          "output_type": "display_data",
          "data": {
            "text/plain": [
              "<IPython.core.display.Javascript object>"
            ],
            "application/javascript": [
              "\n",
              "    async function download(id, filename, size) {\n",
              "      if (!google.colab.kernel.accessAllowed) {\n",
              "        return;\n",
              "      }\n",
              "      const div = document.createElement('div');\n",
              "      const label = document.createElement('label');\n",
              "      label.textContent = `Downloading \"${filename}\": `;\n",
              "      div.appendChild(label);\n",
              "      const progress = document.createElement('progress');\n",
              "      progress.max = size;\n",
              "      div.appendChild(progress);\n",
              "      document.body.appendChild(div);\n",
              "\n",
              "      const buffers = [];\n",
              "      let downloaded = 0;\n",
              "\n",
              "      const channel = await google.colab.kernel.comms.open(id);\n",
              "      // Send a message to notify the kernel that we're ready.\n",
              "      channel.send({})\n",
              "\n",
              "      for await (const message of channel.messages) {\n",
              "        // Send a message to notify the kernel that we're ready.\n",
              "        channel.send({})\n",
              "        if (message.buffers) {\n",
              "          for (const buffer of message.buffers) {\n",
              "            buffers.push(buffer);\n",
              "            downloaded += buffer.byteLength;\n",
              "            progress.value = downloaded;\n",
              "          }\n",
              "        }\n",
              "      }\n",
              "      const blob = new Blob(buffers, {type: 'application/binary'});\n",
              "      const a = document.createElement('a');\n",
              "      a.href = window.URL.createObjectURL(blob);\n",
              "      a.download = filename;\n",
              "      div.appendChild(a);\n",
              "      a.click();\n",
              "      div.remove();\n",
              "    }\n",
              "  "
            ]
          },
          "metadata": {}
        },
        {
          "output_type": "display_data",
          "data": {
            "text/plain": [
              "<IPython.core.display.Javascript object>"
            ],
            "application/javascript": [
              "download(\"download_f7b0fda9-407f-42b7-9384-607f952ece6c\", \"football_data_combined.csv\", 512841)"
            ]
          },
          "metadata": {}
        }
      ]
    },
    {
      "cell_type": "markdown",
      "source": [
        "**something to note**\n",
        "\n",
        "a copy of the cvs file should be downloaded to you machine by now but if you do not desire this skip the code chunk/cell just above this markdown.\n",
        "to check the location of the csv file in your note either use get working directory code or check on the left panel and for content. your csv file should reside here."
      ],
      "metadata": {
        "id": "NQtgDqcEAZ6v"
      }
    },
    {
      "cell_type": "code",
      "source": [
        "df=pd.read_csv('/content/football_data_combined.csv')\n",
        "print(df.tail)"
      ],
      "metadata": {
        "colab": {
          "base_uri": "https://localhost:8080/"
        },
        "id": "6MM35gJy_8ov",
        "outputId": "1c57b5ce-8618-4ed8-edec-2db45cc4a453"
      },
      "execution_count": null,
      "outputs": [
        {
          "output_type": "stream",
          "name": "stdout",
          "text": [
            "<bound method NDFrame.tail of      Div        Date   Time        HomeTeam          AwayTeam  FTHG  FTAG FTR  \\\n",
            "0     E0  09/08/2019  20:00       Liverpool           Norwich     4     1   H   \n",
            "1     E0  10/08/2019  12:30        West Ham          Man City     0     5   A   \n",
            "2     E0  10/08/2019  15:00     Bournemouth  Sheffield United     1     1   D   \n",
            "3     E0  10/08/2019  15:00         Burnley       Southampton     3     0   H   \n",
            "4     E0  10/08/2019  15:00  Crystal Palace           Everton     0     0   D   \n",
            "...   ..         ...    ...             ...               ...   ...   ...  ..   \n",
            "1295  E1    04/05/03    NaN  Sheffield Weds           Walsall     2     1   H   \n",
            "1296  E1    04/05/03    NaN           Stoke           Reading     1     0   H   \n",
            "1297  E1    04/05/03    NaN         Watford  Sheffield United     2     0   H   \n",
            "1298  E1    04/05/03    NaN       Wimbledon           Burnley     2     1   H   \n",
            "1299  E1    04/05/03    NaN          Wolves         Leicester     1     1   D   \n",
            "\n",
            "      HTHG  HTAG  ...   LBD   LBA   SOH   SOD   SOA    SBH   SBD    SBA  \\\n",
            "0        4     0  ...   NaN   NaN   NaN   NaN   NaN    NaN   NaN    NaN   \n",
            "1        0     1  ...   NaN   NaN   NaN   NaN   NaN    NaN   NaN    NaN   \n",
            "2        0     0  ...   NaN   NaN   NaN   NaN   NaN    NaN   NaN    NaN   \n",
            "3        0     0  ...   NaN   NaN   NaN   NaN   NaN    NaN   NaN    NaN   \n",
            "4        0     0  ...   NaN   NaN   NaN   NaN   NaN    NaN   NaN    NaN   \n",
            "...    ...   ...  ...   ...   ...   ...   ...   ...    ...   ...    ...   \n",
            "1295     0     0  ...  3.20  3.50  2.10  3.25  3.00  2.100  3.25  3.000   \n",
            "1296     0     0  ...  3.20  3.00  2.00  3.50  3.00  2.000  3.00  3.500   \n",
            "1297     0     0  ...  3.25  2.40  2.50  3.40  2.38  2.500  3.40  2.375   \n",
            "1298     0     1  ...  3.50  5.00  1.73  3.25  4.33  1.727  3.25  4.333   \n",
            "1299     0     0  ...  3.25  2.75  2.38  3.20  2.63  2.250  3.25  2.750   \n",
            "\n",
            "      GB>2.5  GB<2.5  \n",
            "0        NaN     NaN  \n",
            "1        NaN     NaN  \n",
            "2        NaN     NaN  \n",
            "3        NaN     NaN  \n",
            "4        NaN     NaN  \n",
            "...      ...     ...  \n",
            "1295     NaN     NaN  \n",
            "1296     NaN     NaN  \n",
            "1297     NaN     NaN  \n",
            "1298     NaN     NaN  \n",
            "1299     NaN     NaN  \n",
            "\n",
            "[1300 rows x 120 columns]>\n"
          ]
        }
      ]
    },
    {
      "cell_type": "code",
      "source": [
        "df.info()"
      ],
      "metadata": {
        "colab": {
          "base_uri": "https://localhost:8080/"
        },
        "id": "BgBrnCjaCg-L",
        "outputId": "a701a1b1-5a03-40ac-8a7a-b988a0e1e005"
      },
      "execution_count": null,
      "outputs": [
        {
          "output_type": "stream",
          "name": "stdout",
          "text": [
            "<class 'pandas.core.frame.DataFrame'>\n",
            "RangeIndex: 4 entries, 0 to 3\n",
            "Data columns (total 1 columns):\n",
            " #   Column  Non-Null Count  Dtype         \n",
            "---  ------  --------------  -----         \n",
            " 0   Date    2 non-null      datetime64[ns]\n",
            "dtypes: datetime64[ns](1)\n",
            "memory usage: 160.0 bytes\n"
          ]
        }
      ]
    },
    {
      "cell_type": "markdown",
      "source": [
        "**missing data**\n",
        "\n",
        "handling missing values in date column.\n",
        "to achieve this, it takes the most recent non-missing value and uses it to fill in any missing values that follow, until it encounters another valid value. this option give a close approximate date."
      ],
      "metadata": {
        "id": "Gv_ZLi8WDaRs"
      }
    },
    {
      "cell_type": "code",
      "source": [
        "\n",
        "# Example DataFrame with missing dates\n",
        "data = {'Date': ['2023-01-01', None, '2023-01-03', None, None, '2023-01-06']}\n",
        "df = pd.DataFrame(data)\n",
        "\n",
        "# Convert the 'Date' column to datetime\n",
        "df['Date'] = pd.to_datetime(df['Date'], errors='coerce')\n",
        "\n",
        "# Use ffill() to forward fill missing values without inplace=True (since it's a copy warning)\n",
        "df['Date'] = df['Date'].ffill()\n",
        "\n",
        "# Print the DataFrame after forward fill\n",
        "print(df)\n",
        "\n",
        "\n",
        "# Use ffill() to replace NaT with forward-filled values\n",
        "df['Date'] = df['Date'].ffill()\n"
      ],
      "metadata": {
        "colab": {
          "base_uri": "https://localhost:8080/"
        },
        "id": "fZsgBJXKFSyl",
        "outputId": "82f79392-eb44-42ee-ee05-5fa506da920a"
      },
      "execution_count": null,
      "outputs": [
        {
          "output_type": "stream",
          "name": "stdout",
          "text": [
            "        Date\n",
            "0 2023-01-01\n",
            "1 2023-01-01\n",
            "2 2023-01-03\n",
            "3 2023-01-03\n",
            "4 2023-01-03\n",
            "5 2023-01-06\n"
          ]
        }
      ]
    },
    {
      "cell_type": "markdown",
      "source": [
        "**Extracting the required data**\n",
        "\n",
        "Data structure: We are only interested in a subset of the information: Div = League Division Date = Match Date (dd/mm/yy) Time = Time of match kick off HomeTeam = Home Team AwayTeam = Away Team FTHG = Full Time Home Team Goals FTAG = Full Time Away Team Goals"
      ],
      "metadata": {
        "id": "P89LNgAiFzJ8"
      }
    },
    {
      "cell_type": "code",
      "source": [
        "# Define the columns you want to extract\n",
        "columns_to_extract = ['Div', 'Date', 'Time','HomeTeam', 'AwayTeam']\n",
        "\n",
        "# Load only the specific columns\n",
        "df = pd.read_csv('/content/football_data_combined.csv', usecols=columns_to_extract)\n",
        "df.head()"
      ],
      "metadata": {
        "colab": {
          "base_uri": "https://localhost:8080/",
          "height": 206
        },
        "id": "l6um3yw8EUo2",
        "outputId": "c0d0f9ba-9b85-480a-8d22-7d965bbe8582"
      },
      "execution_count": null,
      "outputs": [
        {
          "output_type": "execute_result",
          "data": {
            "text/plain": [
              "  Div        Date   Time        HomeTeam          AwayTeam\n",
              "0  E0  09/08/2019  20:00       Liverpool           Norwich\n",
              "1  E0  10/08/2019  12:30        West Ham          Man City\n",
              "2  E0  10/08/2019  15:00     Bournemouth  Sheffield United\n",
              "3  E0  10/08/2019  15:00         Burnley       Southampton\n",
              "4  E0  10/08/2019  15:00  Crystal Palace           Everton"
            ],
            "text/html": [
              "\n",
              "  <div id=\"df-2f94a6ac-3eb7-4a65-8f07-14585a2b1847\" class=\"colab-df-container\">\n",
              "    <div>\n",
              "<style scoped>\n",
              "    .dataframe tbody tr th:only-of-type {\n",
              "        vertical-align: middle;\n",
              "    }\n",
              "\n",
              "    .dataframe tbody tr th {\n",
              "        vertical-align: top;\n",
              "    }\n",
              "\n",
              "    .dataframe thead th {\n",
              "        text-align: right;\n",
              "    }\n",
              "</style>\n",
              "<table border=\"1\" class=\"dataframe\">\n",
              "  <thead>\n",
              "    <tr style=\"text-align: right;\">\n",
              "      <th></th>\n",
              "      <th>Div</th>\n",
              "      <th>Date</th>\n",
              "      <th>Time</th>\n",
              "      <th>HomeTeam</th>\n",
              "      <th>AwayTeam</th>\n",
              "    </tr>\n",
              "  </thead>\n",
              "  <tbody>\n",
              "    <tr>\n",
              "      <th>0</th>\n",
              "      <td>E0</td>\n",
              "      <td>09/08/2019</td>\n",
              "      <td>20:00</td>\n",
              "      <td>Liverpool</td>\n",
              "      <td>Norwich</td>\n",
              "    </tr>\n",
              "    <tr>\n",
              "      <th>1</th>\n",
              "      <td>E0</td>\n",
              "      <td>10/08/2019</td>\n",
              "      <td>12:30</td>\n",
              "      <td>West Ham</td>\n",
              "      <td>Man City</td>\n",
              "    </tr>\n",
              "    <tr>\n",
              "      <th>2</th>\n",
              "      <td>E0</td>\n",
              "      <td>10/08/2019</td>\n",
              "      <td>15:00</td>\n",
              "      <td>Bournemouth</td>\n",
              "      <td>Sheffield United</td>\n",
              "    </tr>\n",
              "    <tr>\n",
              "      <th>3</th>\n",
              "      <td>E0</td>\n",
              "      <td>10/08/2019</td>\n",
              "      <td>15:00</td>\n",
              "      <td>Burnley</td>\n",
              "      <td>Southampton</td>\n",
              "    </tr>\n",
              "    <tr>\n",
              "      <th>4</th>\n",
              "      <td>E0</td>\n",
              "      <td>10/08/2019</td>\n",
              "      <td>15:00</td>\n",
              "      <td>Crystal Palace</td>\n",
              "      <td>Everton</td>\n",
              "    </tr>\n",
              "  </tbody>\n",
              "</table>\n",
              "</div>\n",
              "    <div class=\"colab-df-buttons\">\n",
              "\n",
              "  <div class=\"colab-df-container\">\n",
              "    <button class=\"colab-df-convert\" onclick=\"convertToInteractive('df-2f94a6ac-3eb7-4a65-8f07-14585a2b1847')\"\n",
              "            title=\"Convert this dataframe to an interactive table.\"\n",
              "            style=\"display:none;\">\n",
              "\n",
              "  <svg xmlns=\"http://www.w3.org/2000/svg\" height=\"24px\" viewBox=\"0 -960 960 960\">\n",
              "    <path d=\"M120-120v-720h720v720H120Zm60-500h600v-160H180v160Zm220 220h160v-160H400v160Zm0 220h160v-160H400v160ZM180-400h160v-160H180v160Zm440 0h160v-160H620v160ZM180-180h160v-160H180v160Zm440 0h160v-160H620v160Z\"/>\n",
              "  </svg>\n",
              "    </button>\n",
              "\n",
              "  <style>\n",
              "    .colab-df-container {\n",
              "      display:flex;\n",
              "      gap: 12px;\n",
              "    }\n",
              "\n",
              "    .colab-df-convert {\n",
              "      background-color: #E8F0FE;\n",
              "      border: none;\n",
              "      border-radius: 50%;\n",
              "      cursor: pointer;\n",
              "      display: none;\n",
              "      fill: #1967D2;\n",
              "      height: 32px;\n",
              "      padding: 0 0 0 0;\n",
              "      width: 32px;\n",
              "    }\n",
              "\n",
              "    .colab-df-convert:hover {\n",
              "      background-color: #E2EBFA;\n",
              "      box-shadow: 0px 1px 2px rgba(60, 64, 67, 0.3), 0px 1px 3px 1px rgba(60, 64, 67, 0.15);\n",
              "      fill: #174EA6;\n",
              "    }\n",
              "\n",
              "    .colab-df-buttons div {\n",
              "      margin-bottom: 4px;\n",
              "    }\n",
              "\n",
              "    [theme=dark] .colab-df-convert {\n",
              "      background-color: #3B4455;\n",
              "      fill: #D2E3FC;\n",
              "    }\n",
              "\n",
              "    [theme=dark] .colab-df-convert:hover {\n",
              "      background-color: #434B5C;\n",
              "      box-shadow: 0px 1px 3px 1px rgba(0, 0, 0, 0.15);\n",
              "      filter: drop-shadow(0px 1px 2px rgba(0, 0, 0, 0.3));\n",
              "      fill: #FFFFFF;\n",
              "    }\n",
              "  </style>\n",
              "\n",
              "    <script>\n",
              "      const buttonEl =\n",
              "        document.querySelector('#df-2f94a6ac-3eb7-4a65-8f07-14585a2b1847 button.colab-df-convert');\n",
              "      buttonEl.style.display =\n",
              "        google.colab.kernel.accessAllowed ? 'block' : 'none';\n",
              "\n",
              "      async function convertToInteractive(key) {\n",
              "        const element = document.querySelector('#df-2f94a6ac-3eb7-4a65-8f07-14585a2b1847');\n",
              "        const dataTable =\n",
              "          await google.colab.kernel.invokeFunction('convertToInteractive',\n",
              "                                                    [key], {});\n",
              "        if (!dataTable) return;\n",
              "\n",
              "        const docLinkHtml = 'Like what you see? Visit the ' +\n",
              "          '<a target=\"_blank\" href=https://colab.research.google.com/notebooks/data_table.ipynb>data table notebook</a>'\n",
              "          + ' to learn more about interactive tables.';\n",
              "        element.innerHTML = '';\n",
              "        dataTable['output_type'] = 'display_data';\n",
              "        await google.colab.output.renderOutput(dataTable, element);\n",
              "        const docLink = document.createElement('div');\n",
              "        docLink.innerHTML = docLinkHtml;\n",
              "        element.appendChild(docLink);\n",
              "      }\n",
              "    </script>\n",
              "  </div>\n",
              "\n",
              "\n",
              "<div id=\"df-a1f82719-7538-48c1-a978-435c6e805a89\">\n",
              "  <button class=\"colab-df-quickchart\" onclick=\"quickchart('df-a1f82719-7538-48c1-a978-435c6e805a89')\"\n",
              "            title=\"Suggest charts\"\n",
              "            style=\"display:none;\">\n",
              "\n",
              "<svg xmlns=\"http://www.w3.org/2000/svg\" height=\"24px\"viewBox=\"0 0 24 24\"\n",
              "     width=\"24px\">\n",
              "    <g>\n",
              "        <path d=\"M19 3H5c-1.1 0-2 .9-2 2v14c0 1.1.9 2 2 2h14c1.1 0 2-.9 2-2V5c0-1.1-.9-2-2-2zM9 17H7v-7h2v7zm4 0h-2V7h2v10zm4 0h-2v-4h2v4z\"/>\n",
              "    </g>\n",
              "</svg>\n",
              "  </button>\n",
              "\n",
              "<style>\n",
              "  .colab-df-quickchart {\n",
              "      --bg-color: #E8F0FE;\n",
              "      --fill-color: #1967D2;\n",
              "      --hover-bg-color: #E2EBFA;\n",
              "      --hover-fill-color: #174EA6;\n",
              "      --disabled-fill-color: #AAA;\n",
              "      --disabled-bg-color: #DDD;\n",
              "  }\n",
              "\n",
              "  [theme=dark] .colab-df-quickchart {\n",
              "      --bg-color: #3B4455;\n",
              "      --fill-color: #D2E3FC;\n",
              "      --hover-bg-color: #434B5C;\n",
              "      --hover-fill-color: #FFFFFF;\n",
              "      --disabled-bg-color: #3B4455;\n",
              "      --disabled-fill-color: #666;\n",
              "  }\n",
              "\n",
              "  .colab-df-quickchart {\n",
              "    background-color: var(--bg-color);\n",
              "    border: none;\n",
              "    border-radius: 50%;\n",
              "    cursor: pointer;\n",
              "    display: none;\n",
              "    fill: var(--fill-color);\n",
              "    height: 32px;\n",
              "    padding: 0;\n",
              "    width: 32px;\n",
              "  }\n",
              "\n",
              "  .colab-df-quickchart:hover {\n",
              "    background-color: var(--hover-bg-color);\n",
              "    box-shadow: 0 1px 2px rgba(60, 64, 67, 0.3), 0 1px 3px 1px rgba(60, 64, 67, 0.15);\n",
              "    fill: var(--button-hover-fill-color);\n",
              "  }\n",
              "\n",
              "  .colab-df-quickchart-complete:disabled,\n",
              "  .colab-df-quickchart-complete:disabled:hover {\n",
              "    background-color: var(--disabled-bg-color);\n",
              "    fill: var(--disabled-fill-color);\n",
              "    box-shadow: none;\n",
              "  }\n",
              "\n",
              "  .colab-df-spinner {\n",
              "    border: 2px solid var(--fill-color);\n",
              "    border-color: transparent;\n",
              "    border-bottom-color: var(--fill-color);\n",
              "    animation:\n",
              "      spin 1s steps(1) infinite;\n",
              "  }\n",
              "\n",
              "  @keyframes spin {\n",
              "    0% {\n",
              "      border-color: transparent;\n",
              "      border-bottom-color: var(--fill-color);\n",
              "      border-left-color: var(--fill-color);\n",
              "    }\n",
              "    20% {\n",
              "      border-color: transparent;\n",
              "      border-left-color: var(--fill-color);\n",
              "      border-top-color: var(--fill-color);\n",
              "    }\n",
              "    30% {\n",
              "      border-color: transparent;\n",
              "      border-left-color: var(--fill-color);\n",
              "      border-top-color: var(--fill-color);\n",
              "      border-right-color: var(--fill-color);\n",
              "    }\n",
              "    40% {\n",
              "      border-color: transparent;\n",
              "      border-right-color: var(--fill-color);\n",
              "      border-top-color: var(--fill-color);\n",
              "    }\n",
              "    60% {\n",
              "      border-color: transparent;\n",
              "      border-right-color: var(--fill-color);\n",
              "    }\n",
              "    80% {\n",
              "      border-color: transparent;\n",
              "      border-right-color: var(--fill-color);\n",
              "      border-bottom-color: var(--fill-color);\n",
              "    }\n",
              "    90% {\n",
              "      border-color: transparent;\n",
              "      border-bottom-color: var(--fill-color);\n",
              "    }\n",
              "  }\n",
              "</style>\n",
              "\n",
              "  <script>\n",
              "    async function quickchart(key) {\n",
              "      const quickchartButtonEl =\n",
              "        document.querySelector('#' + key + ' button');\n",
              "      quickchartButtonEl.disabled = true;  // To prevent multiple clicks.\n",
              "      quickchartButtonEl.classList.add('colab-df-spinner');\n",
              "      try {\n",
              "        const charts = await google.colab.kernel.invokeFunction(\n",
              "            'suggestCharts', [key], {});\n",
              "      } catch (error) {\n",
              "        console.error('Error during call to suggestCharts:', error);\n",
              "      }\n",
              "      quickchartButtonEl.classList.remove('colab-df-spinner');\n",
              "      quickchartButtonEl.classList.add('colab-df-quickchart-complete');\n",
              "    }\n",
              "    (() => {\n",
              "      let quickchartButtonEl =\n",
              "        document.querySelector('#df-a1f82719-7538-48c1-a978-435c6e805a89 button');\n",
              "      quickchartButtonEl.style.display =\n",
              "        google.colab.kernel.accessAllowed ? 'block' : 'none';\n",
              "    })();\n",
              "  </script>\n",
              "</div>\n",
              "\n",
              "    </div>\n",
              "  </div>\n"
            ],
            "application/vnd.google.colaboratory.intrinsic+json": {
              "type": "dataframe",
              "variable_name": "df",
              "summary": "{\n  \"name\": \"df\",\n  \"rows\": 1300,\n  \"fields\": [\n    {\n      \"column\": \"Div\",\n      \"properties\": {\n        \"dtype\": \"category\",\n        \"num_unique_values\": 3,\n        \"samples\": [\n          \"E0\",\n          \"E2\",\n          \"E1\"\n        ],\n        \"semantic_type\": \"\",\n        \"description\": \"\"\n      }\n    },\n    {\n      \"column\": \"Date\",\n      \"properties\": {\n        \"dtype\": \"category\",\n        \"num_unique_values\": 241,\n        \"samples\": [\n          \"21/10/2019\",\n          \"23/08/2019\",\n          \"15/03/03\"\n        ],\n        \"semantic_type\": \"\",\n        \"description\": \"\"\n      }\n    },\n    {\n      \"column\": \"Time\",\n      \"properties\": {\n        \"dtype\": \"object\",\n        \"num_unique_values\": 16,\n        \"samples\": [\n          \"20:00\",\n          \"12:30\",\n          \"16:30\"\n        ],\n        \"semantic_type\": \"\",\n        \"description\": \"\"\n      }\n    },\n    {\n      \"column\": \"HomeTeam\",\n      \"properties\": {\n        \"dtype\": \"category\",\n        \"num_unique_values\": 54,\n        \"samples\": [\n          \"Wolves\",\n          \"Bradford\",\n          \"Wimbledon\"\n        ],\n        \"semantic_type\": \"\",\n        \"description\": \"\"\n      }\n    },\n    {\n      \"column\": \"AwayTeam\",\n      \"properties\": {\n        \"dtype\": \"category\",\n        \"num_unique_values\": 54,\n        \"samples\": [\n          \"Man United\",\n          \"Wimbledon\",\n          \"Derby\"\n        ],\n        \"semantic_type\": \"\",\n        \"description\": \"\"\n      }\n    }\n  ]\n}"
            }
          },
          "metadata": {},
          "execution_count": 35
        }
      ]
    },
    {
      "cell_type": "code",
      "source": [
        "\n",
        "# Example DataFrame with missing dates\n",
        "data = {'Date': ['2023-01-01', None, '2023-01-03', None, None, '2023-01-06']}\n",
        "df = pd.DataFrame(data)\n",
        "\n",
        "# Convert the 'Date' column to datetime\n",
        "df['Date'] = pd.to_datetime(df['Date'], errors='coerce')\n",
        "\n",
        "# Use ffill() to forward fill missing values without inplace=True (since it's a copy warning)\n",
        "df['Date'] = df['Date'].ffill()\n",
        "\n",
        "# Print the DataFrame after forward fill\n",
        "print(df)\n",
        "\n",
        "\n",
        "# Use ffill() to replace NaT with forward-filled values\n",
        "df['Date'] = df['Date'].ffill()"
      ],
      "metadata": {
        "colab": {
          "base_uri": "https://localhost:8080/"
        },
        "id": "2xGQAsxBLAp2",
        "outputId": "03c2cd8c-0285-431b-ee7b-ae5cb2ef2c89"
      },
      "execution_count": null,
      "outputs": [
        {
          "output_type": "stream",
          "name": "stdout",
          "text": [
            "        Date\n",
            "0 2023-01-01\n",
            "1 2023-01-01\n",
            "2 2023-01-03\n",
            "3 2023-01-03\n",
            "4 2023-01-03\n",
            "5 2023-01-06\n"
          ]
        }
      ]
    },
    {
      "cell_type": "code",
      "source": [
        "df.tail()"
      ],
      "metadata": {
        "colab": {
          "base_uri": "https://localhost:8080/",
          "height": 206
        },
        "id": "lVUvss_eLEpz",
        "outputId": "c34db956-5f94-4f78-80c9-a27c4c607ede"
      },
      "execution_count": null,
      "outputs": [
        {
          "output_type": "execute_result",
          "data": {
            "text/plain": [
              "        Date\n",
              "1 2023-01-01\n",
              "2 2023-01-03\n",
              "3 2023-01-03\n",
              "4 2023-01-03\n",
              "5 2023-01-06"
            ],
            "text/html": [
              "\n",
              "  <div id=\"df-a0b44ae0-6e76-44c6-b6c8-a3d4565a902a\" class=\"colab-df-container\">\n",
              "    <div>\n",
              "<style scoped>\n",
              "    .dataframe tbody tr th:only-of-type {\n",
              "        vertical-align: middle;\n",
              "    }\n",
              "\n",
              "    .dataframe tbody tr th {\n",
              "        vertical-align: top;\n",
              "    }\n",
              "\n",
              "    .dataframe thead th {\n",
              "        text-align: right;\n",
              "    }\n",
              "</style>\n",
              "<table border=\"1\" class=\"dataframe\">\n",
              "  <thead>\n",
              "    <tr style=\"text-align: right;\">\n",
              "      <th></th>\n",
              "      <th>Date</th>\n",
              "    </tr>\n",
              "  </thead>\n",
              "  <tbody>\n",
              "    <tr>\n",
              "      <th>1</th>\n",
              "      <td>2023-01-01</td>\n",
              "    </tr>\n",
              "    <tr>\n",
              "      <th>2</th>\n",
              "      <td>2023-01-03</td>\n",
              "    </tr>\n",
              "    <tr>\n",
              "      <th>3</th>\n",
              "      <td>2023-01-03</td>\n",
              "    </tr>\n",
              "    <tr>\n",
              "      <th>4</th>\n",
              "      <td>2023-01-03</td>\n",
              "    </tr>\n",
              "    <tr>\n",
              "      <th>5</th>\n",
              "      <td>2023-01-06</td>\n",
              "    </tr>\n",
              "  </tbody>\n",
              "</table>\n",
              "</div>\n",
              "    <div class=\"colab-df-buttons\">\n",
              "\n",
              "  <div class=\"colab-df-container\">\n",
              "    <button class=\"colab-df-convert\" onclick=\"convertToInteractive('df-a0b44ae0-6e76-44c6-b6c8-a3d4565a902a')\"\n",
              "            title=\"Convert this dataframe to an interactive table.\"\n",
              "            style=\"display:none;\">\n",
              "\n",
              "  <svg xmlns=\"http://www.w3.org/2000/svg\" height=\"24px\" viewBox=\"0 -960 960 960\">\n",
              "    <path d=\"M120-120v-720h720v720H120Zm60-500h600v-160H180v160Zm220 220h160v-160H400v160Zm0 220h160v-160H400v160ZM180-400h160v-160H180v160Zm440 0h160v-160H620v160ZM180-180h160v-160H180v160Zm440 0h160v-160H620v160Z\"/>\n",
              "  </svg>\n",
              "    </button>\n",
              "\n",
              "  <style>\n",
              "    .colab-df-container {\n",
              "      display:flex;\n",
              "      gap: 12px;\n",
              "    }\n",
              "\n",
              "    .colab-df-convert {\n",
              "      background-color: #E8F0FE;\n",
              "      border: none;\n",
              "      border-radius: 50%;\n",
              "      cursor: pointer;\n",
              "      display: none;\n",
              "      fill: #1967D2;\n",
              "      height: 32px;\n",
              "      padding: 0 0 0 0;\n",
              "      width: 32px;\n",
              "    }\n",
              "\n",
              "    .colab-df-convert:hover {\n",
              "      background-color: #E2EBFA;\n",
              "      box-shadow: 0px 1px 2px rgba(60, 64, 67, 0.3), 0px 1px 3px 1px rgba(60, 64, 67, 0.15);\n",
              "      fill: #174EA6;\n",
              "    }\n",
              "\n",
              "    .colab-df-buttons div {\n",
              "      margin-bottom: 4px;\n",
              "    }\n",
              "\n",
              "    [theme=dark] .colab-df-convert {\n",
              "      background-color: #3B4455;\n",
              "      fill: #D2E3FC;\n",
              "    }\n",
              "\n",
              "    [theme=dark] .colab-df-convert:hover {\n",
              "      background-color: #434B5C;\n",
              "      box-shadow: 0px 1px 3px 1px rgba(0, 0, 0, 0.15);\n",
              "      filter: drop-shadow(0px 1px 2px rgba(0, 0, 0, 0.3));\n",
              "      fill: #FFFFFF;\n",
              "    }\n",
              "  </style>\n",
              "\n",
              "    <script>\n",
              "      const buttonEl =\n",
              "        document.querySelector('#df-a0b44ae0-6e76-44c6-b6c8-a3d4565a902a button.colab-df-convert');\n",
              "      buttonEl.style.display =\n",
              "        google.colab.kernel.accessAllowed ? 'block' : 'none';\n",
              "\n",
              "      async function convertToInteractive(key) {\n",
              "        const element = document.querySelector('#df-a0b44ae0-6e76-44c6-b6c8-a3d4565a902a');\n",
              "        const dataTable =\n",
              "          await google.colab.kernel.invokeFunction('convertToInteractive',\n",
              "                                                    [key], {});\n",
              "        if (!dataTable) return;\n",
              "\n",
              "        const docLinkHtml = 'Like what you see? Visit the ' +\n",
              "          '<a target=\"_blank\" href=https://colab.research.google.com/notebooks/data_table.ipynb>data table notebook</a>'\n",
              "          + ' to learn more about interactive tables.';\n",
              "        element.innerHTML = '';\n",
              "        dataTable['output_type'] = 'display_data';\n",
              "        await google.colab.output.renderOutput(dataTable, element);\n",
              "        const docLink = document.createElement('div');\n",
              "        docLink.innerHTML = docLinkHtml;\n",
              "        element.appendChild(docLink);\n",
              "      }\n",
              "    </script>\n",
              "  </div>\n",
              "\n",
              "\n",
              "<div id=\"df-3cf147e3-0294-4fcb-96b7-5d721d1b7018\">\n",
              "  <button class=\"colab-df-quickchart\" onclick=\"quickchart('df-3cf147e3-0294-4fcb-96b7-5d721d1b7018')\"\n",
              "            title=\"Suggest charts\"\n",
              "            style=\"display:none;\">\n",
              "\n",
              "<svg xmlns=\"http://www.w3.org/2000/svg\" height=\"24px\"viewBox=\"0 0 24 24\"\n",
              "     width=\"24px\">\n",
              "    <g>\n",
              "        <path d=\"M19 3H5c-1.1 0-2 .9-2 2v14c0 1.1.9 2 2 2h14c1.1 0 2-.9 2-2V5c0-1.1-.9-2-2-2zM9 17H7v-7h2v7zm4 0h-2V7h2v10zm4 0h-2v-4h2v4z\"/>\n",
              "    </g>\n",
              "</svg>\n",
              "  </button>\n",
              "\n",
              "<style>\n",
              "  .colab-df-quickchart {\n",
              "      --bg-color: #E8F0FE;\n",
              "      --fill-color: #1967D2;\n",
              "      --hover-bg-color: #E2EBFA;\n",
              "      --hover-fill-color: #174EA6;\n",
              "      --disabled-fill-color: #AAA;\n",
              "      --disabled-bg-color: #DDD;\n",
              "  }\n",
              "\n",
              "  [theme=dark] .colab-df-quickchart {\n",
              "      --bg-color: #3B4455;\n",
              "      --fill-color: #D2E3FC;\n",
              "      --hover-bg-color: #434B5C;\n",
              "      --hover-fill-color: #FFFFFF;\n",
              "      --disabled-bg-color: #3B4455;\n",
              "      --disabled-fill-color: #666;\n",
              "  }\n",
              "\n",
              "  .colab-df-quickchart {\n",
              "    background-color: var(--bg-color);\n",
              "    border: none;\n",
              "    border-radius: 50%;\n",
              "    cursor: pointer;\n",
              "    display: none;\n",
              "    fill: var(--fill-color);\n",
              "    height: 32px;\n",
              "    padding: 0;\n",
              "    width: 32px;\n",
              "  }\n",
              "\n",
              "  .colab-df-quickchart:hover {\n",
              "    background-color: var(--hover-bg-color);\n",
              "    box-shadow: 0 1px 2px rgba(60, 64, 67, 0.3), 0 1px 3px 1px rgba(60, 64, 67, 0.15);\n",
              "    fill: var(--button-hover-fill-color);\n",
              "  }\n",
              "\n",
              "  .colab-df-quickchart-complete:disabled,\n",
              "  .colab-df-quickchart-complete:disabled:hover {\n",
              "    background-color: var(--disabled-bg-color);\n",
              "    fill: var(--disabled-fill-color);\n",
              "    box-shadow: none;\n",
              "  }\n",
              "\n",
              "  .colab-df-spinner {\n",
              "    border: 2px solid var(--fill-color);\n",
              "    border-color: transparent;\n",
              "    border-bottom-color: var(--fill-color);\n",
              "    animation:\n",
              "      spin 1s steps(1) infinite;\n",
              "  }\n",
              "\n",
              "  @keyframes spin {\n",
              "    0% {\n",
              "      border-color: transparent;\n",
              "      border-bottom-color: var(--fill-color);\n",
              "      border-left-color: var(--fill-color);\n",
              "    }\n",
              "    20% {\n",
              "      border-color: transparent;\n",
              "      border-left-color: var(--fill-color);\n",
              "      border-top-color: var(--fill-color);\n",
              "    }\n",
              "    30% {\n",
              "      border-color: transparent;\n",
              "      border-left-color: var(--fill-color);\n",
              "      border-top-color: var(--fill-color);\n",
              "      border-right-color: var(--fill-color);\n",
              "    }\n",
              "    40% {\n",
              "      border-color: transparent;\n",
              "      border-right-color: var(--fill-color);\n",
              "      border-top-color: var(--fill-color);\n",
              "    }\n",
              "    60% {\n",
              "      border-color: transparent;\n",
              "      border-right-color: var(--fill-color);\n",
              "    }\n",
              "    80% {\n",
              "      border-color: transparent;\n",
              "      border-right-color: var(--fill-color);\n",
              "      border-bottom-color: var(--fill-color);\n",
              "    }\n",
              "    90% {\n",
              "      border-color: transparent;\n",
              "      border-bottom-color: var(--fill-color);\n",
              "    }\n",
              "  }\n",
              "</style>\n",
              "\n",
              "  <script>\n",
              "    async function quickchart(key) {\n",
              "      const quickchartButtonEl =\n",
              "        document.querySelector('#' + key + ' button');\n",
              "      quickchartButtonEl.disabled = true;  // To prevent multiple clicks.\n",
              "      quickchartButtonEl.classList.add('colab-df-spinner');\n",
              "      try {\n",
              "        const charts = await google.colab.kernel.invokeFunction(\n",
              "            'suggestCharts', [key], {});\n",
              "      } catch (error) {\n",
              "        console.error('Error during call to suggestCharts:', error);\n",
              "      }\n",
              "      quickchartButtonEl.classList.remove('colab-df-spinner');\n",
              "      quickchartButtonEl.classList.add('colab-df-quickchart-complete');\n",
              "    }\n",
              "    (() => {\n",
              "      let quickchartButtonEl =\n",
              "        document.querySelector('#df-3cf147e3-0294-4fcb-96b7-5d721d1b7018 button');\n",
              "      quickchartButtonEl.style.display =\n",
              "        google.colab.kernel.accessAllowed ? 'block' : 'none';\n",
              "    })();\n",
              "  </script>\n",
              "</div>\n",
              "\n",
              "    </div>\n",
              "  </div>\n"
            ],
            "application/vnd.google.colaboratory.intrinsic+json": {
              "type": "dataframe",
              "summary": "{\n  \"name\": \"df\",\n  \"rows\": 5,\n  \"fields\": [\n    {\n      \"column\": \"Date\",\n      \"properties\": {\n        \"dtype\": \"date\",\n        \"min\": \"2023-01-01 00:00:00\",\n        \"max\": \"2023-01-06 00:00:00\",\n        \"num_unique_values\": 3,\n        \"samples\": [\n          \"2023-01-01 00:00:00\",\n          \"2023-01-03 00:00:00\",\n          \"2023-01-06 00:00:00\"\n        ],\n        \"semantic_type\": \"\",\n        \"description\": \"\"\n      }\n    }\n  ]\n}"
            }
          },
          "metadata": {},
          "execution_count": 37
        }
      ]
    }
  ]
}