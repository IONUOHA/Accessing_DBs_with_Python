{
 "cells": [
  {
   "cell_type": "code",
   "execution_count": null,
   "metadata": {},
   "outputs": [],
   "source": []
  },
  {
   "cell_type": "markdown",
   "metadata": {},
   "source": [
    "## Accessing Databases with Python\n",
    "\n",
    "Accessing databases with Python involves using database libraries/modules that provide interfaces to interact with various database management systems (DBMS) such as SQLite, MySQL, PostgreSQL, Oracle, SQL Server, etc.\n",
    "\n",
    "The common steps in accessing a database with python are:\n",
    "\n",
    "1. Set up a database client library and load the database credentials\n",
    "\n",
    "\n",
    "2. Create an engine\n",
    "\n",
    "\n",
    "3. Establish connection to the database using the engine\n",
    "\n",
    "\n",
    "4. Execute SQL queries with the connection\n",
    "\n",
    "\n",
    "5. Process/fetch query results\n",
    "\n",
    "\n",
    "6. Close connection to cursor and database\n",
    "\n",
    "\n",
    "7. Handle Errors and Exceptions"
   ]
  },
  {
   "cell_type": "markdown",
   "metadata": {},
   "source": [
    "**Set up a database client library**\n",
    "\n",
    "You can use a package manager like ```pip``` to install the Python library or module that provides connectivity to the chosen DBMS. This library will allow your Python code to communicate with the database.\n",
    "\n",
    "Common DB client libraries are:\n",
    "\n",
    "```psycopg2``` for Postgres Databases\n",
    "\n",
    "```cx_Oracle``` for Oracle Databases\n",
    "\n",
    "```pyodbc``` for SQL Server\n",
    "\n",
    "```pymongo``` for Mongo DB\n",
    "\n",
    "`sqlalchemy` provides a wrapper for all the libraries above"
   ]
  },
  {
   "cell_type": "code",
   "execution_count": null,
   "metadata": {},
   "outputs": [],
   "source": [
    "# installing pyscopg2 \n",
    "!pip install psycopg2\n",
    "!pip install sqlalchemy\n",
    "!pip install python-dotenv\n",
    "\n",
    "# you only need to install a particular package once for a python environment(already installed)"
   ]
  },
  {
   "cell_type": "code",
   "execution_count": 28,
   "metadata": {},
   "outputs": [],
   "source": [
    "# import the library\n",
    "import os\n",
    "from sqlalchemy import create_engine, text\n",
    "from dotenv import load_dotenv\n",
    "import pandas as pd\n"
   ]
  },
  {
   "cell_type": "code",
   "execution_count": 29,
   "metadata": {},
   "outputs": [
    {
     "data": {
      "text/plain": [
       "True"
      ]
     },
     "execution_count": 29,
     "metadata": {},
     "output_type": "execute_result"
    }
   ],
   "source": [
    "#loading my credentials\n",
    "load_dotenv()"
   ]
  },
  {
   "cell_type": "code",
   "execution_count": 30,
   "metadata": {},
   "outputs": [],
   "source": [
    "# Load the variables from the .env file\n",
    "load_dotenv(override=True)\n",
    "\n",
    "# Get the database connection details from environment variables\n",
    "\n",
    "# credentials\n",
    "host = os.getenv('db_host')\n",
    "username = os.getenv('db_user')\n",
    "password = os.getenv('db_password')\n",
    "port = os.getenv('db_port')\n",
    "db_name = os.getenv('db_name')"
   ]
  },
  {
   "cell_type": "markdown",
   "metadata": {},
   "source": [
    "**Creating a SQL alchemy Engine**\n",
    "\n",
    "Create a sqlalchemy engine to the database by providing database parameters such as the database ```name```, ```host```, ```port```, ```username```, and ```password```.\n",
    "\n",
    "To establish connection, the common method is ```connect``` method on the engine object"
   ]
  },
  {
   "cell_type": "code",
   "execution_count": 31,
   "metadata": {},
   "outputs": [],
   "source": [
    "# Create the connection URL for SQLAlchemy\n",
    "database_url = f\"postgresql+psycopg2://{username}:{password}@{host}:{port}/{db_name}\"\n",
    "\n",
    "# Create an engine\n",
    "engine = create_engine(database_url)\n",
    "\n"
   ]
  },
  {
   "cell_type": "markdown",
   "metadata": {},
   "source": [
    "#### Creating a Connection\n",
    "\n",
    "The connection holds a cursor object that allows you to interact with a database by executing SQL queries and fetching results. A cursor in this context is similar to the query editor you open when you connect to a DBMS (such as pgAdmin2)\n"
   ]
  },
  {
   "cell_type": "code",
   "execution_count": 34,
   "metadata": {},
   "outputs": [
    {
     "name": "stdout",
     "output_type": "stream",
     "text": [
      "(1, 'Justin Aguirre', 'Lake Alexandra', datetime.date(2019, 12, 28))\n",
      "(2, 'Cynthia Yang', 'Collinstown', datetime.date(2022, 10, 27))\n",
      "(3, 'Thomas Smith', 'Thomasburgh', datetime.date(2022, 7, 20))\n",
      "(4, 'Deborah Burns', 'West Claire', datetime.date(2020, 8, 21))\n",
      "(5, 'David Hunter', 'Brandonport', datetime.date(2023, 1, 3))\n",
      "(6, 'Hannah Shaw', 'Mejiaberg', datetime.date(2021, 10, 5))\n",
      "(7, 'Victoria Johnson', 'New Cynthiatown', datetime.date(2023, 12, 24))\n"
     ]
    }
   ],
   "source": [
    "with engine.connect() as connection:\n",
    "    result = connection.execute(text(\"SELECT * FROM members\"))\n",
    "    rows = result.fetchmany(7)  # fetchall - Fetch all records/ fetchmany - fetch few\n",
    "    for row in rows:\n",
    "        print(row)\n"
   ]
  },
  {
   "cell_type": "code",
   "execution_count": 35,
   "metadata": {},
   "outputs": [],
   "source": [
    "## using pandas and the connection\n",
    "with engine.connect() as connection:\n",
    "    query = \"SELECT * FROM members\"\n",
    "    df = pd.read_sql(query, con=connection)"
   ]
  },
  {
   "cell_type": "code",
   "execution_count": 36,
   "metadata": {},
   "outputs": [
    {
     "data": {
      "text/html": [
       "<div>\n",
       "<style scoped>\n",
       "    .dataframe tbody tr th:only-of-type {\n",
       "        vertical-align: middle;\n",
       "    }\n",
       "\n",
       "    .dataframe tbody tr th {\n",
       "        vertical-align: top;\n",
       "    }\n",
       "\n",
       "    .dataframe thead th {\n",
       "        text-align: right;\n",
       "    }\n",
       "</style>\n",
       "<table border=\"1\" class=\"dataframe\">\n",
       "  <thead>\n",
       "    <tr style=\"text-align: right;\">\n",
       "      <th></th>\n",
       "      <th>member_id</th>\n",
       "      <th>name</th>\n",
       "      <th>city</th>\n",
       "      <th>join_date</th>\n",
       "    </tr>\n",
       "  </thead>\n",
       "  <tbody>\n",
       "    <tr>\n",
       "      <th>0</th>\n",
       "      <td>1</td>\n",
       "      <td>Justin Aguirre</td>\n",
       "      <td>Lake Alexandra</td>\n",
       "      <td>2019-12-28</td>\n",
       "    </tr>\n",
       "    <tr>\n",
       "      <th>1</th>\n",
       "      <td>2</td>\n",
       "      <td>Cynthia Yang</td>\n",
       "      <td>Collinstown</td>\n",
       "      <td>2022-10-27</td>\n",
       "    </tr>\n",
       "    <tr>\n",
       "      <th>2</th>\n",
       "      <td>3</td>\n",
       "      <td>Thomas Smith</td>\n",
       "      <td>Thomasburgh</td>\n",
       "      <td>2022-07-20</td>\n",
       "    </tr>\n",
       "    <tr>\n",
       "      <th>3</th>\n",
       "      <td>4</td>\n",
       "      <td>Deborah Burns</td>\n",
       "      <td>West Claire</td>\n",
       "      <td>2020-08-21</td>\n",
       "    </tr>\n",
       "    <tr>\n",
       "      <th>4</th>\n",
       "      <td>5</td>\n",
       "      <td>David Hunter</td>\n",
       "      <td>Brandonport</td>\n",
       "      <td>2023-01-03</td>\n",
       "    </tr>\n",
       "    <tr>\n",
       "      <th>...</th>\n",
       "      <td>...</td>\n",
       "      <td>...</td>\n",
       "      <td>...</td>\n",
       "      <td>...</td>\n",
       "    </tr>\n",
       "    <tr>\n",
       "      <th>95</th>\n",
       "      <td>96</td>\n",
       "      <td>Abigail Ellison</td>\n",
       "      <td>East Amandaborough</td>\n",
       "      <td>2019-07-14</td>\n",
       "    </tr>\n",
       "    <tr>\n",
       "      <th>96</th>\n",
       "      <td>97</td>\n",
       "      <td>Sally Gomez</td>\n",
       "      <td>Christopherview</td>\n",
       "      <td>2020-03-02</td>\n",
       "    </tr>\n",
       "    <tr>\n",
       "      <th>97</th>\n",
       "      <td>98</td>\n",
       "      <td>Denise Kaufman</td>\n",
       "      <td>West Ronaldville</td>\n",
       "      <td>2023-01-31</td>\n",
       "    </tr>\n",
       "    <tr>\n",
       "      <th>98</th>\n",
       "      <td>99</td>\n",
       "      <td>Michael Hughes</td>\n",
       "      <td>Trujilloview</td>\n",
       "      <td>2019-12-01</td>\n",
       "    </tr>\n",
       "    <tr>\n",
       "      <th>99</th>\n",
       "      <td>100</td>\n",
       "      <td>Cathy Osborn</td>\n",
       "      <td>Floresstad</td>\n",
       "      <td>2021-07-30</td>\n",
       "    </tr>\n",
       "  </tbody>\n",
       "</table>\n",
       "<p>100 rows × 4 columns</p>\n",
       "</div>"
      ],
      "text/plain": [
       "    member_id             name                city   join_date\n",
       "0           1   Justin Aguirre      Lake Alexandra  2019-12-28\n",
       "1           2     Cynthia Yang         Collinstown  2022-10-27\n",
       "2           3     Thomas Smith         Thomasburgh  2022-07-20\n",
       "3           4    Deborah Burns         West Claire  2020-08-21\n",
       "4           5     David Hunter         Brandonport  2023-01-03\n",
       "..        ...              ...                 ...         ...\n",
       "95         96  Abigail Ellison  East Amandaborough  2019-07-14\n",
       "96         97      Sally Gomez     Christopherview  2020-03-02\n",
       "97         98   Denise Kaufman    West Ronaldville  2023-01-31\n",
       "98         99   Michael Hughes        Trujilloview  2019-12-01\n",
       "99        100     Cathy Osborn          Floresstad  2021-07-30\n",
       "\n",
       "[100 rows x 4 columns]"
      ]
     },
     "execution_count": 36,
     "metadata": {},
     "output_type": "execute_result"
    }
   ],
   "source": [
    "df"
   ]
  },
  {
   "cell_type": "markdown",
   "metadata": {},
   "source": [
    "### SQL DDL (Create, Alter, Drop, Truncate) using Python DB Connection"
   ]
  },
  {
   "cell_type": "code",
   "execution_count": null,
   "metadata": {},
   "outputs": [],
   "source": [
    "# Define the SQL statement for creating a table\n",
    "sql_query = \"\"\"\n",
    "                CREATE TABLE practice_table(\n",
    "                id int,\n",
    "                name text)\n",
    "             \"\"\"\n",
    "# Execute the SQL statement\n",
    "with engine.connect() as connection:\n",
    "    connection.execute(text(sql_query))\n",
    "    connection.commit()\n",
    "\n",
    "\n",
    "print(\"Table created successfully!\")\n",
    "\n",
    "\n"
   ]
  },
  {
   "cell_type": "markdown",
   "metadata": {},
   "source": [
    "### SQL DML (Insert, Update, Delete) using Python DB Cursor"
   ]
  },
  {
   "cell_type": "code",
   "execution_count": 52,
   "metadata": {},
   "outputs": [
    {
     "name": "stdout",
     "output_type": "stream",
     "text": [
      "data sucessfully inserted\n"
     ]
    }
   ],
   "source": [
    "sql_query = '''\n",
    "               Insert into practice_table (id, name)\n",
    "               values (:id, :name)\n",
    "            '''\n",
    "data = {'id': 1, 'name': 'chu'}\n",
    "#execute the insert\n",
    "with engine.connect()as connection:\n",
    "    connection.execute(text(sql_query),data)\n",
    "\n",
    "     #commit\n",
    "    connection.commit()\n",
    "    \n",
    "\n",
    "print('data sucessfully inserted')\n",
    "    \n"
   ]
  },
  {
   "cell_type": "code",
   "execution_count": 64,
   "metadata": {},
   "outputs": [
    {
     "name": "stdout",
     "output_type": "stream",
     "text": [
      "data sucessfully inserted\n"
     ]
    }
   ],
   "source": [
    "sql_query = '''\n",
    "               Insert into practice_table (id, name)\n",
    "               values (:id, :name)\n",
    "            '''\n",
    "data =[{'id': 1, 'name': 'chu'},\n",
    "        {'id': 3, 'name': 'kehinde'},\n",
    "        {'id': 4, 'name': 'ike'},\n",
    "        {'id': 4, 'name': 'marian'},\n",
    "        {'id': 5, 'name': 'onibiyo'}\n",
    "        \n",
    "]\n",
    "#execute the insert\n",
    "with engine.connect()as connection:\n",
    "    connection.execute(text(sql_query),data)\n",
    "\n",
    "     #commit\n",
    "    connection.commit()\n",
    "    \n",
    "\n",
    "print('data sucessfully inserted')\n",
    "    "
   ]
  },
  {
   "cell_type": "code",
   "execution_count": 69,
   "metadata": {},
   "outputs": [],
   "source": [
    "sql_query = '''\n",
    "               delete from practice_table\n",
    "             where  id not in ( \n",
    "             select min(id)\n",
    "             from pratice_table\n",
    "             group by id\n",
    "             );\n",
    "\n",
    "            '''"
   ]
  },
  {
   "cell_type": "code",
   "execution_count": 71,
   "metadata": {},
   "outputs": [],
   "source": [
    "sql_query = '''\n",
    "               select distinct id \n",
    "               from practice_table\n",
    "               '''"
   ]
  },
  {
   "cell_type": "code",
   "execution_count": null,
   "metadata": {},
   "outputs": [],
   "source": []
  },
  {
   "cell_type": "markdown",
   "metadata": {},
   "source": [
    "### CLASSWORK\n",
    "\n",
    "1. Create a new Database in Postgres using Python\n",
    "\n",
    "\n",
    "2. Create a table named students (name, address, class, age) in the Database\n",
    "\n",
    "\n",
    "3. Alter the Schema of the table (make age to be varchar)\n",
    "\n",
    "\n",
    "4. Insert one row of data into the table\n",
    "\n",
    "\n",
    "5. Insert multiple rows of data into the table\n",
    "\n",
    "\n",
    "6. Delete data from the table\n",
    "\n",
    "\n",
    "7. Drop the Table\n",
    "\n",
    "\n",
    "8. Drop the Database"
   ]
  },
  {
   "cell_type": "code",
   "execution_count": null,
   "metadata": {},
   "outputs": [],
   "source": []
  }
 ],
 "metadata": {
  "kernelspec": {
   "display_name": "Python 3",
   "language": "python",
   "name": "python3"
  },
  "language_info": {
   "codemirror_mode": {
    "name": "ipython",
    "version": 3
   },
   "file_extension": ".py",
   "mimetype": "text/x-python",
   "name": "python",
   "nbconvert_exporter": "python",
   "pygments_lexer": "ipython3",
   "version": "3.12.4"
  }
 },
 "nbformat": 4,
 "nbformat_minor": 4
}
