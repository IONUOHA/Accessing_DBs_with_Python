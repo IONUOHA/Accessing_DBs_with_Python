{
 "cells": [
  {
   "cell_type": "code",
   "execution_count": null,
   "metadata": {},
   "outputs": [],
   "source": []
  },
  {
   "cell_type": "markdown",
   "metadata": {},
   "source": [
    "## Accessing Databases with Python\n",
    "\n",
    "Accessing databases with Python involves using database libraries/modules that provide interfaces to interact with various database management systems (DBMS) such as SQLite, MySQL, PostgreSQL, Oracle, SQL Server, etc.\n",
    "\n",
    "The common steps in accessing a database with python are:\n",
    "\n",
    "1. Set up a database client library and load the database credentials\n",
    "\n",
    "\n",
    "2. Create an engine\n",
    "\n",
    "\n",
    "3. Establish connection to the database using the engine\n",
    "\n",
    "\n",
    "4. Execute SQL queries with the connection\n",
    "\n",
    "\n",
    "5. Process/fetch query results\n",
    "\n",
    "\n",
    "6. Close connection to cursor and database\n",
    "\n",
    "\n",
    "7. Handle Errors and Exceptions"
   ]
  },
  {
   "cell_type": "markdown",
   "metadata": {},
   "source": [
    "**Set up a database client library**\n",
    "\n",
    "You can use a package manager like ```pip``` to install the Python library or module that provides connectivity to the chosen DBMS. This library will allow your Python code to communicate with the database.\n",
    "\n",
    "Common DB client libraries are:\n",
    "\n",
    "```psycopg2``` for Postgres Databases\n",
    "\n",
    "```cx_Oracle``` for Oracle Databases\n",
    "\n",
    "```pyodbc``` for SQL Server\n",
    "\n",
    "```pymongo``` for Mongo DB\n",
    "\n",
    "`sqlalchemy` provides a wrapper for all the libraries above"
   ]
  },
  {
   "cell_type": "code",
   "execution_count": null,
   "metadata": {},
   "outputs": [],
   "source": [
    "# installing pyscopg2 \n",
    "!pip install psycopg2\n",
    "!pip install sqlalchemy\n",
    "\n",
    "# you only need to install a particular package once"
   ]
  },
  {
   "cell_type": "code",
   "execution_count": 10,
   "metadata": {},
   "outputs": [],
   "source": [
    "# import the library\n",
    "import os\n",
    "from sqlalchemy import create_engine, text\n",
    "from dotenv import load_dotenv\n",
    "import pandas as pd\n"
   ]
  },
  {
   "cell_type": "code",
   "execution_count": 2,
   "metadata": {},
   "outputs": [],
   "source": [
    "# Load the variables from the .env file\n",
    "load_dotenv(override=True)\n",
    "\n",
    "# Get the database connection details from environment variables\n",
    "db_user = os.getenv('DB_USER')\n",
    "db_password = os.getenv('DB_PASSWORD')\n",
    "db_host = os.getenv('DB_HOST')\n",
    "db_port = os.getenv('DB_PORT')\n",
    "db_name = os.getenv('DB_NAME')\n"
   ]
  },
  {
   "cell_type": "markdown",
   "metadata": {},
   "source": [
    "**Creating a SQL alchemy Engine**\n",
    "\n",
    "Create a sqlalchemy engine to the database by providing database parameters such as the database ```name```, ```host```, ```port```, ```username```, and ```password```.\n",
    "\n",
    "To establish connection, the common method is ```connect``` method on the engine object"
   ]
  },
  {
   "cell_type": "code",
   "execution_count": 3,
   "metadata": {},
   "outputs": [],
   "source": [
    "# Create the connection URL for SQLAlchemy\n",
    "database_url = f\"postgresql+psycopg2://{db_user}:{db_password}@{db_host}:{db_port}/{db_name}\"\n",
    "\n",
    "# Create an engine\n",
    "engine = create_engine(database_url)\n",
    "\n"
   ]
  },
  {
   "cell_type": "markdown",
   "metadata": {},
   "source": [
    "#### Creating a Connection\n",
    "\n",
    "The connection holds a cursor object that allows you to interact with a database by executing SQL queries and fetching results. A cursor in this context is similar to the query editor you open when you connect to a DBMS (such as pgAdmin2)\n"
   ]
  },
  {
   "cell_type": "code",
   "execution_count": 9,
   "metadata": {},
   "outputs": [
    {
     "name": "stdout",
     "output_type": "stream",
     "text": [
      "(1, 'Penelope', 'Guiness', datetime.datetime(2013, 5, 26, 14, 47, 57, 620000))\n",
      "(2, 'Nick', 'Wahlberg', datetime.datetime(2013, 5, 26, 14, 47, 57, 620000))\n",
      "(3, 'Ed', 'Chase', datetime.datetime(2013, 5, 26, 14, 47, 57, 620000))\n"
     ]
    }
   ],
   "source": [
    "with engine.connect() as connection:\n",
    "    result = connection.execute(text(\"SELECT * FROM actor\"))\n",
    "    rows = result.fetchall()  # Fetch all records\n",
    "    for row in rows:\n",
    "        print(row)\n"
   ]
  },
  {
   "cell_type": "code",
   "execution_count": 11,
   "metadata": {},
   "outputs": [],
   "source": [
    "## using pandas and the connection\n",
    "query = \"SELECT * FROM actor\"\n",
    "with engine.connect() as connection:\n",
    "    df = pd.read_sql(query, con=connection)"
   ]
  },
  {
   "cell_type": "code",
   "execution_count": null,
   "metadata": {},
   "outputs": [],
   "source": []
  },
  {
   "cell_type": "markdown",
   "metadata": {},
   "source": [
    "### SQL DDL (Create, Alter, Drop, Truncate) using Python DB Connection"
   ]
  },
  {
   "cell_type": "code",
   "execution_count": 13,
   "metadata": {},
   "outputs": [
    {
     "name": "stdout",
     "output_type": "stream",
     "text": [
      "Table created successfully!\n"
     ]
    }
   ],
   "source": [
    "# Define the SQL statement for creating a table\n",
    "sql_query = \"\"\"\n",
    "CREATE TABLE demo_table (\n",
    "    column1 integer,\n",
    "    column2 integer)\n",
    "\"\"\"\n",
    "\n",
    "# Execute the SQL statement\n",
    "with engine.connect() as connection:\n",
    "    result = connection.execute(text(sql_query))\n",
    "\n",
    "\n",
    "print(\"Table created successfully!\")\n",
    "\n",
    "\n"
   ]
  },
  {
   "cell_type": "markdown",
   "metadata": {},
   "source": [
    "### SQL DML (Insert, Update, Delete) using Python DB Cursor"
   ]
  },
  {
   "cell_type": "code",
   "execution_count": null,
   "metadata": {},
   "outputs": [],
   "source": []
  },
  {
   "cell_type": "code",
   "execution_count": 17,
   "metadata": {},
   "outputs": [
    {
     "name": "stdout",
     "output_type": "stream",
     "text": [
      "Data inserted successfully!\n"
     ]
    }
   ],
   "source": [
    "# Define the SQL statement for insertion with named placeholders\n",
    "sql_query = \"INSERT INTO demo_table (column1, column2) VALUES (:col1, :col2)\"\n",
    "\n",
    "# Define the data to be inserted\n",
    "data = {'col1': '1', 'col2': '2'}\n",
    "\n",
    "# Execute the SQL statement\n",
    "with engine.connect() as connection:\n",
    "    connection.execute(text(sql_query), data)\n",
    "\n",
    "    # Commit the transaction\n",
    "    connection.commit()  # Use `commit()` only if using an explicit transaction\n",
    "\n",
    "print(\"Data inserted successfully!\")\n"
   ]
  },
  {
   "cell_type": "code",
   "execution_count": 18,
   "metadata": {},
   "outputs": [
    {
     "name": "stdout",
     "output_type": "stream",
     "text": [
      "Multiple rows inserted successfully!\n"
     ]
    }
   ],
   "source": [
    "#insert multiple rows\n",
    "\n",
    "# Define the SQL statement for insertion with named placeholders\n",
    "sql_query = \"INSERT INTO demo_table (column1, column2) VALUES (:col1, :col2)\"\n",
    "\n",
    "# Define the data to be inserted as a list of dictionaries\n",
    "data = [\n",
    "    {'col1': '1', 'col2': '2'},\n",
    "    {'col1': '3', 'col2': '4'},\n",
    "    {'col1': '5', 'col2': '6'},\n",
    "]\n",
    "\n",
    "# Execute the SQL statement with multiple sets of values\n",
    "with engine.connect() as connection:\n",
    "    connection.execute(text(sql_query), data)\n",
    "\n",
    "    # Commit the transaction\n",
    "    connection.commit()  # Commit if using an explicit transaction\n",
    "\n",
    "print(\"Multiple rows inserted successfully!\")\n"
   ]
  },
  {
   "cell_type": "markdown",
   "metadata": {},
   "source": [
    "### CLASSWORK\n",
    "\n",
    "1. Create a new Database in Postgres using Python\n",
    "\n",
    "\n",
    "2. Create a table named students (name, address, class, age) in the Database\n",
    "\n",
    "\n",
    "3. Alter the Schema of the table (make age to be varchar)\n",
    "\n",
    "\n",
    "4. Insert one row of data into the table\n",
    "\n",
    "\n",
    "5. Insert multiple rows of data into the table\n",
    "\n",
    "\n",
    "6. Delete data from the table\n",
    "\n",
    "\n",
    "7. Drop the Table\n",
    "\n",
    "\n",
    "8. Drop the Database"
   ]
  }
 ],
 "metadata": {
  "kernelspec": {
   "display_name": "Python 3",
   "language": "python",
   "name": "python3"
  },
  "language_info": {
   "codemirror_mode": {
    "name": "ipython",
    "version": 3
   },
   "file_extension": ".py",
   "mimetype": "text/x-python",
   "name": "python",
   "nbconvert_exporter": "python",
   "pygments_lexer": "ipython3",
   "version": "3.12.4"
  }
 },
 "nbformat": 4,
 "nbformat_minor": 4
}
